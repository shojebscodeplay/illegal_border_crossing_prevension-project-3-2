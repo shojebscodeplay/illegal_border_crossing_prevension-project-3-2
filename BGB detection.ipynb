{
 "cells": [
  {
   "cell_type": "code",
   "execution_count": 38,
   "id": "3ada7c5d",
   "metadata": {},
   "outputs": [],
   "source": [
    "from tensorflow.keras.utils import img_to_array ,array_to_img"
   ]
  },
  {
   "cell_type": "code",
   "execution_count": 39,
   "id": "f40cd84f",
   "metadata": {},
   "outputs": [],
   "source": [
    "from tensorflow.keras.utils  import img_to_array ,array_to_img, load_img\n",
    "from keras.preprocessing.image import ImageDataGenerator\n",
    "datagen = ImageDataGenerator(\n",
    "        rotation_range=40,\n",
    "        width_shift_range=0.2,\n",
    "        height_shift_range=0.2,\n",
    "        shear_range=0.2,\n",
    "        zoom_range=0.2,\n",
    "        horizontal_flip=True,\n",
    "        fill_mode='nearest')\n",
    "\n",
    "img = load_img(r\"C:\\Users\\Dell\\Desktop\\Shojeb ML Projects\\CNN5\\dataset\\Army person\\bgb2.JPG\")  # this is a PIL image\n",
    "x = img_to_array(img)  # this is a Numpy array with shape (3, 150, 150)\n",
    "x = x.reshape((1,) + x.shape)  # this is a Numpy array with shape (1, 3, 150, 150)\n",
    "\n",
    "# the .flow() command below generates batches of randomly transformed images\n",
    "# and saves the results to the `preview/` directory\n",
    "i = 0\n",
    "for batch in datagen.flow(x, batch_size=1,\n",
    "                          save_to_dir=r'C:\\Users\\Dell\\Desktop\\Shojeb ML Projects\\CNN5\\dataset\\Army person', save_prefix='army', save_format='jpeg'):\n",
    "    i += 1\n",
    "    if i > 30:\n",
    "        break  # otherwise the generator would loop indef"
   ]
  },
  {
   "cell_type": "code",
   "execution_count": 40,
   "id": "4326249d",
   "metadata": {},
   "outputs": [
    {
     "name": "stdout",
     "output_type": "stream",
     "text": [
      "{'Army person': 0, 'Local person': 1}\n",
      "['Army person', 'Local person']\n",
      "[0, 1]\n"
     ]
    }
   ],
   "source": [
    "import cv2,os\n",
    "\n",
    "data_path=r'C:\\Users\\Dell\\Desktop\\Shojeb ML Projects\\CNN5\\dataset'\n",
    "categories=os.listdir(data_path)\n",
    "labels=[i for i in range(len(categories))]\n",
    "\n",
    "label_dict=dict(zip(categories,labels)) #empty dictionary\n",
    "\n",
    "print(label_dict)\n",
    "print(categories)\n",
    "print(labels)\n"
   ]
  },
  {
   "cell_type": "code",
   "execution_count": 41,
   "id": "28ef161f",
   "metadata": {},
   "outputs": [],
   "source": [
    "img_size=100\n",
    "data=[]\n",
    "target=[]\n",
    "\n",
    "\n",
    "for category in categories:\n",
    "    folder_path=os.path.join(data_path,category)\n",
    "    img_names=os.listdir(folder_path)\n",
    "        \n",
    "    for img_name in img_names:\n",
    "        img_path=os.path.join(folder_path,img_name)\n",
    "        img=cv2.imread(img_path)\n",
    "\n",
    "        try:\n",
    "            gray=cv2.cvtColor(img,cv2.COLOR_BGR2GRAY)           \n",
    "            #Coverting the image into gray scale\n",
    "            resized=cv2.resize(gray,(img_size,img_size))\n",
    "            #resizing the gray scale into 100x100, since we need a fixed common size for all the images in the dataset\n",
    "            data.append(resized)\n",
    "            target.append(label_dict[category])\n",
    "            #appending the image and the label(categorized) into the list (dataset)\n",
    "\n",
    "        except Exception as e:\n",
    "            print('Exception:',e)\n",
    "            #if any exception rasied, the exception will be printed here. And pass to the next image"
   ]
  },
  {
   "cell_type": "code",
   "execution_count": 42,
   "id": "bc904c82",
   "metadata": {},
   "outputs": [],
   "source": [
    "import numpy as np\n",
    "data=np.array(data)/255.0\n",
    "data=np.reshape(data,(data.shape[0],img_size,img_size,1))\n",
    "target=np.array(target)\n",
    "from keras.utils import np_utils\n",
    "new_target=np_utils.to_categorical(target)"
   ]
  },
  {
   "cell_type": "code",
   "execution_count": 43,
   "id": "12ab25df",
   "metadata": {},
   "outputs": [
    {
     "data": {
      "text/plain": [
       "(838, 2)"
      ]
     },
     "execution_count": 43,
     "metadata": {},
     "output_type": "execute_result"
    }
   ],
   "source": [
    "new_target.shape"
   ]
  },
  {
   "cell_type": "code",
   "execution_count": 44,
   "id": "7cd7c5bf",
   "metadata": {},
   "outputs": [],
   "source": [
    "np.save('images.npy',data)\n",
    "np.save('lables.npy',new_target)"
   ]
  },
  {
   "cell_type": "code",
   "execution_count": 45,
   "id": "8e8dc971",
   "metadata": {},
   "outputs": [],
   "source": [
    "import numpy as np\n",
    "data=np.load(r\"C:\\Users\\Dell\\Desktop\\Shojeb ML Projects\\CNN5\\images.npy\")\n",
    "new_target=np.load(r\"C:\\Users\\Dell\\Desktop\\Shojeb ML Projects\\CNN5\\lables.npy\")\n"
   ]
  },
  {
   "cell_type": "code",
   "execution_count": 46,
   "id": "195da2c5",
   "metadata": {},
   "outputs": [
    {
     "data": {
      "text/plain": [
       "(838, 100, 100, 1)"
      ]
     },
     "execution_count": 46,
     "metadata": {},
     "output_type": "execute_result"
    }
   ],
   "source": [
    "data.shape"
   ]
  },
  {
   "cell_type": "code",
   "execution_count": 47,
   "id": "f89e817b",
   "metadata": {},
   "outputs": [
    {
     "data": {
      "text/plain": [
       "(100, 100, 1)"
      ]
     },
     "execution_count": 47,
     "metadata": {},
     "output_type": "execute_result"
    }
   ],
   "source": [
    "data.shape[1:]"
   ]
  },
  {
   "cell_type": "code",
   "execution_count": 48,
   "id": "3d4b4fdd",
   "metadata": {},
   "outputs": [],
   "source": [
    "from keras.models import Sequential\n",
    "from keras.layers import Dense,Activation,Flatten,Dropout\n",
    "from keras.layers import Conv2D,MaxPooling2D\n",
    "from keras.callbacks import ModelCheckpoint\n",
    "\n",
    "model=Sequential()\n",
    "\n",
    "model.add(Conv2D(200,(3,3),input_shape=data.shape[1:]))\n",
    "model.add(Activation('relu'))\n",
    "model.add(MaxPooling2D(pool_size=(2,2)))\n",
    "#The first CNN layer followed by Relu and MaxPooling layers\n",
    "\n",
    "model.add(Conv2D(100,(3,3)))\n",
    "model.add(Activation('relu'))\n",
    "model.add(MaxPooling2D(pool_size=(2,2)))\n",
    "#The second convolution layer followed by Relu and MaxPooling layers\n",
    "\n",
    "model.add(Flatten())\n",
    "model.add(Dropout(0.5))\n",
    "#Flatten layer to stack the output convolutions from second convolution layer\n",
    "model.add(Dense(50,activation='relu'))\n",
    "#Dense layer of 64 neurons\n",
    "model.add(Dense(2,activation='softmax'))\n",
    "#The Final layer with two outputs for two categories\n",
    "\n",
    "model.compile(loss='categorical_crossentropy',optimizer='adam',metrics=['accuracy'])"
   ]
  },
  {
   "cell_type": "code",
   "execution_count": 49,
   "id": "81c1e5e5",
   "metadata": {},
   "outputs": [
    {
     "name": "stdout",
     "output_type": "stream",
     "text": [
      "Model: \"sequential_1\"\n",
      "_________________________________________________________________\n",
      " Layer (type)                Output Shape              Param #   \n",
      "=================================================================\n",
      " conv2d_2 (Conv2D)           (None, 98, 98, 200)       2000      \n",
      "                                                                 \n",
      " activation_2 (Activation)   (None, 98, 98, 200)       0         \n",
      "                                                                 \n",
      " max_pooling2d_2 (MaxPooling  (None, 49, 49, 200)      0         \n",
      " 2D)                                                             \n",
      "                                                                 \n",
      " conv2d_3 (Conv2D)           (None, 47, 47, 100)       180100    \n",
      "                                                                 \n",
      " activation_3 (Activation)   (None, 47, 47, 100)       0         \n",
      "                                                                 \n",
      " max_pooling2d_3 (MaxPooling  (None, 23, 23, 100)      0         \n",
      " 2D)                                                             \n",
      "                                                                 \n",
      " flatten_1 (Flatten)         (None, 52900)             0         \n",
      "                                                                 \n",
      " dropout_1 (Dropout)         (None, 52900)             0         \n",
      "                                                                 \n",
      " dense_2 (Dense)             (None, 50)                2645050   \n",
      "                                                                 \n",
      " dense_3 (Dense)             (None, 2)                 102       \n",
      "                                                                 \n",
      "=================================================================\n",
      "Total params: 2,827,252\n",
      "Trainable params: 2,827,252\n",
      "Non-trainable params: 0\n",
      "_________________________________________________________________\n"
     ]
    }
   ],
   "source": [
    "model.summary()"
   ]
  },
  {
   "cell_type": "code",
   "execution_count": 50,
   "id": "698c9b0c",
   "metadata": {},
   "outputs": [],
   "source": [
    "from sklearn.model_selection import train_test_split\n",
    "train_data,test_data,train_target,test_target=train_test_split(data,new_target,test_size=0.1)"
   ]
  },
  {
   "cell_type": "code",
   "execution_count": 51,
   "id": "c8ebf49c",
   "metadata": {},
   "outputs": [
    {
     "data": {
      "text/plain": [
       "(754, 100, 100, 1)"
      ]
     },
     "execution_count": 51,
     "metadata": {},
     "output_type": "execute_result"
    }
   ],
   "source": [
    "train_data.shape"
   ]
  },
  {
   "cell_type": "code",
   "execution_count": 52,
   "id": "c729318b",
   "metadata": {},
   "outputs": [
    {
     "data": {
      "text/plain": [
       "(754, 2)"
      ]
     },
     "execution_count": 52,
     "metadata": {},
     "output_type": "execute_result"
    }
   ],
   "source": [
    "train_target.shape"
   ]
  },
  {
   "cell_type": "code",
   "execution_count": 53,
   "id": "f1a0cbf8",
   "metadata": {},
   "outputs": [
    {
     "name": "stdout",
     "output_type": "stream",
     "text": [
      "Epoch 1/20\n",
      "18/18 [==============================] - ETA: 0s - loss: 0.5197 - accuracy: 0.8000"
     ]
    },
    {
     "name": "stderr",
     "output_type": "stream",
     "text": [
      "WARNING:absl:Found untraced functions such as _jit_compiled_convolution_op, _jit_compiled_convolution_op, _update_step_xla while saving (showing 3 of 3). These functions will not be directly callable after loading.\n"
     ]
    },
    {
     "name": "stdout",
     "output_type": "stream",
     "text": [
      "INFO:tensorflow:Assets written to: model-001.model\\assets\n"
     ]
    },
    {
     "name": "stderr",
     "output_type": "stream",
     "text": [
      "INFO:tensorflow:Assets written to: model-001.model\\assets\n"
     ]
    },
    {
     "name": "stdout",
     "output_type": "stream",
     "text": [
      "18/18 [==============================] - 41s 2s/step - loss: 0.5197 - accuracy: 0.8000 - val_loss: 0.4596 - val_accuracy: 0.7884\n",
      "Epoch 2/20\n",
      "18/18 [==============================] - ETA: 0s - loss: 0.3394 - accuracy: 0.8230"
     ]
    },
    {
     "name": "stderr",
     "output_type": "stream",
     "text": [
      "WARNING:absl:Found untraced functions such as _jit_compiled_convolution_op, _jit_compiled_convolution_op, _update_step_xla while saving (showing 3 of 3). These functions will not be directly callable after loading.\n"
     ]
    },
    {
     "name": "stdout",
     "output_type": "stream",
     "text": [
      "INFO:tensorflow:Assets written to: model-002.model\\assets\n"
     ]
    },
    {
     "name": "stderr",
     "output_type": "stream",
     "text": [
      "INFO:tensorflow:Assets written to: model-002.model\\assets\n"
     ]
    },
    {
     "name": "stdout",
     "output_type": "stream",
     "text": [
      "18/18 [==============================] - 39s 2s/step - loss: 0.3394 - accuracy: 0.8230 - val_loss: 0.3896 - val_accuracy: 0.7884\n",
      "Epoch 3/20\n",
      "18/18 [==============================] - ETA: 0s - loss: 0.2584 - accuracy: 0.8442"
     ]
    },
    {
     "name": "stderr",
     "output_type": "stream",
     "text": [
      "WARNING:absl:Found untraced functions such as _jit_compiled_convolution_op, _jit_compiled_convolution_op, _update_step_xla while saving (showing 3 of 3). These functions will not be directly callable after loading.\n"
     ]
    },
    {
     "name": "stdout",
     "output_type": "stream",
     "text": [
      "INFO:tensorflow:Assets written to: model-003.model\\assets\n"
     ]
    },
    {
     "name": "stderr",
     "output_type": "stream",
     "text": [
      "INFO:tensorflow:Assets written to: model-003.model\\assets\n"
     ]
    },
    {
     "name": "stdout",
     "output_type": "stream",
     "text": [
      "18/18 [==============================] - 39s 2s/step - loss: 0.2584 - accuracy: 0.8442 - val_loss: 0.3036 - val_accuracy: 0.8360\n",
      "Epoch 4/20\n",
      "18/18 [==============================] - ETA: 0s - loss: 0.2168 - accuracy: 0.9044"
     ]
    },
    {
     "name": "stderr",
     "output_type": "stream",
     "text": [
      "WARNING:absl:Found untraced functions such as _jit_compiled_convolution_op, _jit_compiled_convolution_op, _update_step_xla while saving (showing 3 of 3). These functions will not be directly callable after loading.\n"
     ]
    },
    {
     "name": "stdout",
     "output_type": "stream",
     "text": [
      "INFO:tensorflow:Assets written to: model-004.model\\assets\n"
     ]
    },
    {
     "name": "stderr",
     "output_type": "stream",
     "text": [
      "INFO:tensorflow:Assets written to: model-004.model\\assets\n"
     ]
    },
    {
     "name": "stdout",
     "output_type": "stream",
     "text": [
      "18/18 [==============================] - 38s 2s/step - loss: 0.2168 - accuracy: 0.9044 - val_loss: 0.2757 - val_accuracy: 0.8995\n",
      "Epoch 5/20\n",
      "18/18 [==============================] - ETA: 0s - loss: 0.2006 - accuracy: 0.9204"
     ]
    },
    {
     "name": "stderr",
     "output_type": "stream",
     "text": [
      "WARNING:absl:Found untraced functions such as _jit_compiled_convolution_op, _jit_compiled_convolution_op, _update_step_xla while saving (showing 3 of 3). These functions will not be directly callable after loading.\n"
     ]
    },
    {
     "name": "stdout",
     "output_type": "stream",
     "text": [
      "INFO:tensorflow:Assets written to: model-005.model\\assets\n"
     ]
    },
    {
     "name": "stderr",
     "output_type": "stream",
     "text": [
      "INFO:tensorflow:Assets written to: model-005.model\\assets\n"
     ]
    },
    {
     "name": "stdout",
     "output_type": "stream",
     "text": [
      "18/18 [==============================] - 38s 2s/step - loss: 0.2006 - accuracy: 0.9204 - val_loss: 0.2542 - val_accuracy: 0.8942\n",
      "Epoch 6/20\n",
      "18/18 [==============================] - ETA: 0s - loss: 0.1822 - accuracy: 0.9239"
     ]
    },
    {
     "name": "stderr",
     "output_type": "stream",
     "text": [
      "WARNING:absl:Found untraced functions such as _jit_compiled_convolution_op, _jit_compiled_convolution_op, _update_step_xla while saving (showing 3 of 3). These functions will not be directly callable after loading.\n"
     ]
    },
    {
     "name": "stdout",
     "output_type": "stream",
     "text": [
      "INFO:tensorflow:Assets written to: model-006.model\\assets\n"
     ]
    },
    {
     "name": "stderr",
     "output_type": "stream",
     "text": [
      "INFO:tensorflow:Assets written to: model-006.model\\assets\n"
     ]
    },
    {
     "name": "stdout",
     "output_type": "stream",
     "text": [
      "18/18 [==============================] - 39s 2s/step - loss: 0.1822 - accuracy: 0.9239 - val_loss: 0.2490 - val_accuracy: 0.8995\n",
      "Epoch 7/20\n",
      "18/18 [==============================] - ETA: 0s - loss: 0.1525 - accuracy: 0.9522"
     ]
    },
    {
     "name": "stderr",
     "output_type": "stream",
     "text": [
      "WARNING:absl:Found untraced functions such as _jit_compiled_convolution_op, _jit_compiled_convolution_op, _update_step_xla while saving (showing 3 of 3). These functions will not be directly callable after loading.\n"
     ]
    },
    {
     "name": "stdout",
     "output_type": "stream",
     "text": [
      "INFO:tensorflow:Assets written to: model-007.model\\assets\n"
     ]
    },
    {
     "name": "stderr",
     "output_type": "stream",
     "text": [
      "INFO:tensorflow:Assets written to: model-007.model\\assets\n"
     ]
    },
    {
     "name": "stdout",
     "output_type": "stream",
     "text": [
      "18/18 [==============================] - 39s 2s/step - loss: 0.1525 - accuracy: 0.9522 - val_loss: 0.2302 - val_accuracy: 0.8995\n",
      "Epoch 8/20\n",
      "18/18 [==============================] - 37s 2s/step - loss: 0.1386 - accuracy: 0.9699 - val_loss: 0.2985 - val_accuracy: 0.8519\n",
      "Epoch 9/20\n",
      "18/18 [==============================] - 37s 2s/step - loss: 0.1506 - accuracy: 0.9593 - val_loss: 0.2355 - val_accuracy: 0.8889\n",
      "Epoch 10/20\n",
      "18/18 [==============================] - 37s 2s/step - loss: 0.1321 - accuracy: 0.9735 - val_loss: 0.2360 - val_accuracy: 0.8889\n",
      "Epoch 11/20\n",
      "18/18 [==============================] - ETA: 0s - loss: 0.1207 - accuracy: 0.9841"
     ]
    },
    {
     "name": "stderr",
     "output_type": "stream",
     "text": [
      "WARNING:absl:Found untraced functions such as _jit_compiled_convolution_op, _jit_compiled_convolution_op, _update_step_xla while saving (showing 3 of 3). These functions will not be directly callable after loading.\n"
     ]
    },
    {
     "name": "stdout",
     "output_type": "stream",
     "text": [
      "INFO:tensorflow:Assets written to: model-011.model\\assets\n"
     ]
    },
    {
     "name": "stderr",
     "output_type": "stream",
     "text": [
      "INFO:tensorflow:Assets written to: model-011.model\\assets\n"
     ]
    },
    {
     "name": "stdout",
     "output_type": "stream",
     "text": [
      "18/18 [==============================] - 41s 2s/step - loss: 0.1207 - accuracy: 0.9841 - val_loss: 0.2150 - val_accuracy: 0.9101\n",
      "Epoch 12/20\n",
      "18/18 [==============================] - ETA: 0s - loss: 0.1129 - accuracy: 0.9929"
     ]
    },
    {
     "name": "stderr",
     "output_type": "stream",
     "text": [
      "WARNING:absl:Found untraced functions such as _jit_compiled_convolution_op, _jit_compiled_convolution_op, _update_step_xla while saving (showing 3 of 3). These functions will not be directly callable after loading.\n"
     ]
    },
    {
     "name": "stdout",
     "output_type": "stream",
     "text": [
      "INFO:tensorflow:Assets written to: model-012.model\\assets\n"
     ]
    },
    {
     "name": "stderr",
     "output_type": "stream",
     "text": [
      "INFO:tensorflow:Assets written to: model-012.model\\assets\n"
     ]
    },
    {
     "name": "stdout",
     "output_type": "stream",
     "text": [
      "18/18 [==============================] - 38s 2s/step - loss: 0.1129 - accuracy: 0.9929 - val_loss: 0.2143 - val_accuracy: 0.9259\n",
      "Epoch 13/20\n",
      "18/18 [==============================] - 36s 2s/step - loss: 0.1181 - accuracy: 0.9858 - val_loss: 0.2791 - val_accuracy: 0.9048\n",
      "Epoch 14/20\n",
      "18/18 [==============================] - ETA: 0s - loss: 0.1087 - accuracy: 0.9965"
     ]
    },
    {
     "name": "stderr",
     "output_type": "stream",
     "text": [
      "WARNING:absl:Found untraced functions such as _jit_compiled_convolution_op, _jit_compiled_convolution_op, _update_step_xla while saving (showing 3 of 3). These functions will not be directly callable after loading.\n"
     ]
    },
    {
     "name": "stdout",
     "output_type": "stream",
     "text": [
      "INFO:tensorflow:Assets written to: model-014.model\\assets\n"
     ]
    },
    {
     "name": "stderr",
     "output_type": "stream",
     "text": [
      "INFO:tensorflow:Assets written to: model-014.model\\assets\n"
     ]
    },
    {
     "name": "stdout",
     "output_type": "stream",
     "text": [
      "18/18 [==============================] - 39s 2s/step - loss: 0.1087 - accuracy: 0.9965 - val_loss: 0.2133 - val_accuracy: 0.9418\n",
      "Epoch 15/20\n",
      "18/18 [==============================] - ETA: 0s - loss: 0.1023 - accuracy: 0.9965"
     ]
    },
    {
     "name": "stderr",
     "output_type": "stream",
     "text": [
      "WARNING:absl:Found untraced functions such as _jit_compiled_convolution_op, _jit_compiled_convolution_op, _update_step_xla while saving (showing 3 of 3). These functions will not be directly callable after loading.\n"
     ]
    },
    {
     "name": "stdout",
     "output_type": "stream",
     "text": [
      "INFO:tensorflow:Assets written to: model-015.model\\assets\n"
     ]
    },
    {
     "name": "stderr",
     "output_type": "stream",
     "text": [
      "INFO:tensorflow:Assets written to: model-015.model\\assets\n"
     ]
    },
    {
     "name": "stdout",
     "output_type": "stream",
     "text": [
      "18/18 [==============================] - 39s 2s/step - loss: 0.1023 - accuracy: 0.9965 - val_loss: 0.1957 - val_accuracy: 0.9418\n",
      "Epoch 16/20\n",
      "18/18 [==============================] - ETA: 0s - loss: 0.0988 - accuracy: 0.9965"
     ]
    },
    {
     "name": "stderr",
     "output_type": "stream",
     "text": [
      "WARNING:absl:Found untraced functions such as _jit_compiled_convolution_op, _jit_compiled_convolution_op, _update_step_xla while saving (showing 3 of 3). These functions will not be directly callable after loading.\n"
     ]
    },
    {
     "name": "stdout",
     "output_type": "stream",
     "text": [
      "INFO:tensorflow:Assets written to: model-016.model\\assets\n"
     ]
    },
    {
     "name": "stderr",
     "output_type": "stream",
     "text": [
      "INFO:tensorflow:Assets written to: model-016.model\\assets\n"
     ]
    },
    {
     "name": "stdout",
     "output_type": "stream",
     "text": [
      "18/18 [==============================] - 39s 2s/step - loss: 0.0988 - accuracy: 0.9965 - val_loss: 0.1792 - val_accuracy: 0.9524\n",
      "Epoch 17/20\n",
      "18/18 [==============================] - 36s 2s/step - loss: 0.0957 - accuracy: 0.9982 - val_loss: 0.1869 - val_accuracy: 0.9524\n",
      "Epoch 18/20\n",
      "18/18 [==============================] - 37s 2s/step - loss: 0.0944 - accuracy: 0.9982 - val_loss: 0.1849 - val_accuracy: 0.9524\n",
      "Epoch 19/20\n",
      "18/18 [==============================] - ETA: 0s - loss: 0.0913 - accuracy: 0.9947"
     ]
    },
    {
     "name": "stderr",
     "output_type": "stream",
     "text": [
      "WARNING:absl:Found untraced functions such as _jit_compiled_convolution_op, _jit_compiled_convolution_op, _update_step_xla while saving (showing 3 of 3). These functions will not be directly callable after loading.\n"
     ]
    },
    {
     "name": "stdout",
     "output_type": "stream",
     "text": [
      "INFO:tensorflow:Assets written to: model-019.model\\assets\n"
     ]
    },
    {
     "name": "stderr",
     "output_type": "stream",
     "text": [
      "INFO:tensorflow:Assets written to: model-019.model\\assets\n"
     ]
    },
    {
     "name": "stdout",
     "output_type": "stream",
     "text": [
      "18/18 [==============================] - 38s 2s/step - loss: 0.0913 - accuracy: 0.9947 - val_loss: 0.1729 - val_accuracy: 0.9524\n",
      "Epoch 20/20\n",
      "18/18 [==============================] - 37s 2s/step - loss: 0.0880 - accuracy: 0.9982 - val_loss: 0.1759 - val_accuracy: 0.9524\n"
     ]
    }
   ],
   "source": [
    "checkpoint = ModelCheckpoint('model-{epoch:03d}.model',monitor='val_loss',verbose=0,save_best_only=True,mode='auto')\n",
    "history=model.fit(train_data,train_target,epochs=20,callbacks=[checkpoint],validation_split=0.25)"
   ]
  },
  {
   "cell_type": "code",
   "execution_count": 54,
   "id": "71973361",
   "metadata": {},
   "outputs": [
    {
     "data": {
      "image/png": "[encoded data removed]",
      "text/plain": [
       "<Figure size 432x288 with 1 Axes>"
      ]
     },
     "metadata": {
      "needs_background": "light"
     },
     "output_type": "display_data"
    }
   ],
   "source": [
    "from matplotlib import pyplot as plt\n",
    "\n",
    "plt.plot(history.history['loss'],'r',label='training loss')\n",
    "plt.plot(history.history['val_loss'],label='validation loss')\n",
    "plt.xlabel('# epochs')\n",
    "plt.ylabel('loss')\n",
    "plt.legend()\n",
    "plt.show()"
   ]
  },
  {
   "cell_type": "code",
   "execution_count": 55,
   "id": "3a3dde90",
   "metadata": {},
   "outputs": [
    {
     "data": {
      "image/png": "[encoded data removed]",
      "text/plain": [
       "<Figure size 432x288 with 1 Axes>"
      ]
     },
     "metadata": {
      "needs_background": "light"
     },
     "output_type": "display_data"
    }
   ],
   "source": [
    "plt.plot(history.history['accuracy'],'r',label='training accuracy')\n",
    "plt.plot(history.history['val_accuracy'],label='validation accuracy')\n",
    "plt.xlabel('# epochs')\n",
    "plt.ylabel('loss')\n",
    "plt.legend()\n",
    "plt.show()"
   ]
  },
  {
   "cell_type": "code",
   "execution_count": 1,
   "id": "29308019",
   "metadata": {},
   "outputs": [
    {
     "name": "stdout",
     "output_type": "stream",
     "text": [
      "pygame 2.1.2 (SDL 2.0.18, Python 3.9.7)\n",
      "Hello from the pygame community. https://www.pygame.org/contribute.html\n"
     ]
    }
   ],
   "source": [
    "from keras.models import load_model\n",
    "import cv2\n",
    "import numpy as np\n",
    "import face_recognition\n",
    "import os\n",
    "\n",
    "\n",
    "from pygame import mixer\n",
    "mixer.init()\n",
    "sound = mixer.Sound(r\"C:\\Users\\Dell\\Desktop\\Shojeb ML Projects\\CNN5\\beep-02.wav\")\n",
    "sound1 = mixer.Sound(r\"C:\\Users\\Dell\\Desktop\\Shojeb ML Projects\\CNN5\\mixkit-office-telephone-ring-1350.wav\")\n",
    "\n",
    "\n",
    "\n",
    "model = load_model(r\"C:\\Users\\Dell\\Desktop\\Shojeb ML Projects\\CNN5\\model-016.model\")\n",
    "\n",
    "face_clsfr=cv2.CascadeClassifier(r\"C:\\Users\\Dell\\Desktop\\Shojeb ML Projects\\CNN5\\haarcascade_upperbody.xml\")\n",
    "\n",
    "cap=cv2.VideoCapture(0)\n",
    "\n",
    "\n",
    "\n",
    "# Load a sample picture and learn how to recognize it.\n",
    "shojeb_image = face_recognition.load_image_file(r\"C:\\Users\\Dell\\Desktop\\Shojeb ML Projects\\CNN5\\shojeb\\shojeb.jpg\")\n",
    "shojeb_face_encoding = face_recognition.face_encodings(shojeb_image)[0]\n",
    "\n",
    "# Load a second sample picture and learn how to recognize it.\n",
    "shapnik_image = face_recognition.load_image_file(r\"C:\\Users\\Dell\\Desktop\\Shojeb ML Projects\\CNN5\\shapnik\\shapnik.jpg\")\n",
    "shapnik_face_encoding = face_recognition.face_encodings(shapnik_image)[0]\n",
    "\n",
    "# Create arrays of known face encodings and their names\n",
    "known_face_encodings = [\n",
    "    shojeb_face_encoding,\n",
    "    shapnik_face_encoding\n",
    "]\n",
    "known_face_names = [\n",
    "    \"Army name:Shojeb\",\n",
    "    \"Army name:Shapnik\"\n",
    "]\n",
    "\n",
    "# Initialize some variables\n",
    "face_locations = []\n",
    "face_encodings = []\n",
    "face_names = []\n",
    "process_this_frame = True\n",
    "\n",
    "\n",
    "labels_dict={0:'Army',1:'Local'}\n",
    "color_dict={0:(0,255,0),1:(0,0,255)}\n",
    "currentframe=0\n",
    "\n",
    "if not os.path.exists('data'):\n",
    "        os.makedirs('data')  \n",
    "\n",
    "while(True):\n",
    "    \n",
    "    ret,frame=cap.read()\n",
    "     # Resize frame of video to 1/4 size for faster face recognition processing\n",
    "    small_frame = cv2.resize(frame, (0, 0), fx=0.25, fy=0.25)\n",
    "            # Convert the image from BGR color (which OpenCV uses) to RGB color (which face_recognition uses)\n",
    "    rgb_small_frame = small_frame[:, :, ::-1]\n",
    "\n",
    "          \n",
    "           \n",
    "    # Find all the faces and face encodings in the current frame of video\n",
    "\n",
    "    # Only process every other frame of video to save time\n",
    "    if process_this_frame:\n",
    "        # Find all the faces and face encodings in the current frame of video\n",
    "        face_locations = face_recognition.face_locations(rgb_small_frame)\n",
    "        face_encodings = face_recognition.face_encodings(rgb_small_frame, face_locations)\n",
    "\n",
    "        face_names = []\n",
    "        for face_encoding in face_encodings:\n",
    "            # See if the face is a match for the known face(s)\n",
    "            matches = face_recognition.compare_faces(known_face_encodings, face_encoding)\n",
    "            name = \"Unknown\"\n",
    "\n",
    "            # # If a match was found in known_face_encodings, just use the first one.\n",
    "            # if True in matches:\n",
    "            #     first_match_index = matches.index(True)\n",
    "            #     name = known_face_names[first_match_index]\n",
    "\n",
    "            # Or instead, use the known face with the smallest distance to the new face\n",
    "            face_distances = face_recognition.face_distance(known_face_encodings, face_encoding)\n",
    "            best_match_index = np.argmin(face_distances)\n",
    "            if matches[best_match_index]:\n",
    "                name = known_face_names[best_match_index]\n",
    "\n",
    "            face_names.append(name)\n",
    "\n",
    "    process_this_frame = not process_this_frame\n",
    "\n",
    "\n",
    "    \n",
    "    \n",
    "    gray=cv2.cvtColor(frame,cv2.COLOR_BGR2GRAY)\n",
    "    faces=face_clsfr.detectMultiScale(gray,1.3,5)  \n",
    "    i=1\n",
    "    for (x,y,w,h) in faces:\n",
    "    \n",
    "        face_img=gray[y:y+w,x:x+w]\n",
    "        resized=cv2.resize(face_img,(100,100))\n",
    "        normalized=resized/255.0\n",
    "        reshaped=np.reshape(normalized,(1,100,100,1))\n",
    "        result=model.predict(reshaped)\n",
    "\n",
    "        label=np.argmax(result,axis=1)[0]\n",
    "        \n",
    "        cv2.rectangle(frame,(x,y),(x+w,y+h),color_dict[label],4)\n",
    "        cv2.rectangle(frame,(x,y-40),(x+w,y),color_dict[label],4)\n",
    "        cv2.putText(frame, labels_dict[label]+str(i), (x, y-10),cv2.FONT_ITALIC, 1,(255,255,255),4)\n",
    "        \n",
    "        if(labels_dict[label] =='Army'):\n",
    "            print(\"No Beep\")\n",
    "            # Display the results\n",
    "            cv2.putText(frame, name, (x, y+15),cv2.FONT_ITALIC, 1,(255,255,255),4)\n",
    "            i += 1\n",
    "            if (i<=2):\n",
    "                sound1.play()\n",
    "                print('alert! alert! No army here')\n",
    "\n",
    "            \n",
    "        elif(labels_dict[label] =='Local'):\n",
    "                sound.play()\n",
    "                print(\"Beep\") \n",
    "                cv2.imwrite('./data/frame'+str(currentframe)+'.jpg',frame)\n",
    "                currentframe+=1\n",
    "    cv2.imshow('LIVE',frame)\n",
    "    if cv2.waitKey(1) & 0xFF == ord('q'):\n",
    "        break\n",
    "cap.release()\n",
    "cv2.destroyAllWindows()\n",
    "\n",
    "\n"
   ]
  },
  {
   "cell_type": "code",
   "execution_count": null,
   "id": "ad7d8ec5",
   "metadata": {},
   "outputs": [],
   "source": []
  },
  {
   "cell_type": "code",
   "execution_count": null,
   "id": "37b2240a",
   "metadata": {},
   "outputs": [],
   "source": []
  }
 ],
 "metadata": {
  "kernelspec": {
   "display_name": "Python 3 (ipykernel)",
   "language": "python",
   "name": "python3"
  },
  "language_info": {
   "codemirror_mode": {
    "name": "ipython",
    "version": 3
   },
   "file_extension": ".py",
   "mimetype": "text/x-python",
   "name": "python",
   "nbconvert_exporter": "python",
   "pygments_lexer": "ipython3",
   "version": "3.9.7"
  }
 },
 "nbformat": 4,
 "nbformat_minor": 5
}
